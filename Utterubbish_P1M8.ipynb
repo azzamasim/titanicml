{
  "nbformat": 4,
  "nbformat_minor": 0,
  "metadata": {
    "colab": {
      "provenance": [],
      "authorship_tag": "ABX9TyMSUM/eQFZ6t9j4tjOx0cW6",
      "include_colab_link": true
    },
    "kernelspec": {
      "name": "python3",
      "display_name": "Python 3"
    },
    "language_info": {
      "name": "python"
    }
  },
  "cells": [
    {
      "cell_type": "markdown",
      "metadata": {
        "id": "view-in-github",
        "colab_type": "text"
      },
      "source": [
        "<a href=\"https://colab.research.google.com/github/azzamasim/titanicml/blob/main/Utterubbish_P1M8.ipynb\" target=\"_parent\"><img src=\"https://colab.research.google.com/assets/colab-badge.svg\" alt=\"Open In Colab\"/></a>"
      ]
    },
    {
      "cell_type": "code",
      "metadata": {
        "id": "dlhfxOLUMXjM"
      },
      "source": [
        "from sklearn.model_selection import train_test_split\n",
        "import tensorflow as tf\n",
        "import pandas as pd\n",
        "import numpy as np"
      ],
      "execution_count": 1,
      "outputs": []
    },
    {
      "cell_type": "markdown",
      "metadata": {
        "id": "FfmzcSzIMhil"
      },
      "source": [
        "Importing data and pre-processing"
      ]
    },
    {
      "cell_type": "code",
      "metadata": {
        "id": "5sUB8TZ5M4a8"
      },
      "source": [
        "df = pd.read_csv(\"https://cdn.techroulette.xyz/projects/shipwreck/data/m3_data.csv\")\n",
        "\n",
        "df = df.drop(['PassengerId', 'Name', 'Ticket', 'Cabin'], axis=1)\n",
        "df = df.replace({'male': 0, 'female': 1})\n",
        "df = df.replace({'S': 0, 'Q': 1, 'C': 2})"
      ],
      "execution_count": 2,
      "outputs": []
    },
    {
      "cell_type": "markdown",
      "metadata": {
        "id": "RUHrHe6Otier"
      },
      "source": [
        "Creating training and testing data sets"
      ]
    },
    {
      "cell_type": "code",
      "metadata": {
        "id": "mvcvRnARtm4t"
      },
      "source": [
        "y = df.pop('Survived')\n",
        "x = df\n",
        "x_train, x_test, y_train, y_test = train_test_split(x, y, test_size=0.3)"
      ],
      "execution_count": 3,
      "outputs": []
    },
    {
      "cell_type": "markdown",
      "metadata": {
        "id": "Ezp2L5Ynt9YV"
      },
      "source": [
        "Building Model"
      ]
    },
    {
      "cell_type": "code",
      "metadata": {
        "id": "OuJz7jm8t_U6"
      },
      "source": [
        "model = tf.keras.models.Sequential()\n",
        "model.add(tf.keras.layers.Dense(10, input_shape=(7,), activation='relu'))\n",
        "model.add(tf.keras.layers.Dense(1, activation='sigmoid'))"
      ],
      "execution_count": 4,
      "outputs": []
    },
    {
      "cell_type": "markdown",
      "metadata": {
        "id": "MRK---1mE0yv"
      },
      "source": [
        "Implementing ways to improve accuracy\n"
      ]
    },
    {
      "cell_type": "code",
      "metadata": {
        "id": "uWlLFIVVE6FM"
      },
      "source": [
        "#Step 1: imputing values (mostly for age)\n",
        "from sklearn.impute import SimpleImputer\n",
        "\n",
        "#Imputation\n",
        "my_imputer = SimpleImputer()\n",
        "imputed_x_train = pd.DataFrame(my_imputer.fit_transform(x_train))\n",
        "imputed_x_test = pd.DataFrame(my_imputer.transform(x_test))\n",
        "imputed_x_train.columns = x_train.columns\n",
        "imputed_x_test.columns = x_test.columns"
      ],
      "execution_count": 5,
      "outputs": []
    },
    {
      "cell_type": "markdown",
      "metadata": {
        "id": "iMf3ow8zuEZG"
      },
      "source": [
        "Training Model"
      ]
    },
    {
      "cell_type": "code",
      "metadata": {
        "id": "Yg7qrUKnuLlC",
        "colab": {
          "base_uri": "https://localhost:8080/"
        },
        "outputId": "03f5f651-0a8a-4c95-de46-be0d71f81a53"
      },
      "source": [
        "model.compile(\n",
        "    optimizer=\"adam\",\n",
        "    loss=\"binary_crossentropy\", \n",
        "    metrics=[\"accuracy\"]\n",
        "  )\n",
        "\n",
        "#model.compile(optimizer =\"rmsprop\", loss =\"categorical_crossentropy\", metrics =['accuracy'])\n",
        "\n",
        "model.fit(imputed_x_train, y_train, epochs=125)"
      ],
      "execution_count": 6,
      "outputs": [
        {
          "output_type": "stream",
          "name": "stdout",
          "text": [
            "Epoch 1/125\n",
            "20/20 [==============================] - 2s 4ms/step - loss: 2.8374 - accuracy: 0.5666\n",
            "Epoch 2/125\n",
            "20/20 [==============================] - 0s 4ms/step - loss: 1.5961 - accuracy: 0.5297\n",
            "Epoch 3/125\n",
            "20/20 [==============================] - 0s 7ms/step - loss: 1.0434 - accuracy: 0.6677\n",
            "Epoch 4/125\n",
            "20/20 [==============================] - 0s 21ms/step - loss: 0.9587 - accuracy: 0.6838\n",
            "Epoch 5/125\n",
            "20/20 [==============================] - 0s 10ms/step - loss: 0.8837 - accuracy: 0.6854\n",
            "Epoch 6/125\n",
            "20/20 [==============================] - 0s 8ms/step - loss: 0.8176 - accuracy: 0.6870\n",
            "Epoch 7/125\n",
            "20/20 [==============================] - 0s 7ms/step - loss: 0.7601 - accuracy: 0.6838\n",
            "Epoch 8/125\n",
            "20/20 [==============================] - 0s 5ms/step - loss: 0.6995 - accuracy: 0.6886\n",
            "Epoch 9/125\n",
            "20/20 [==============================] - 0s 7ms/step - loss: 0.6514 - accuracy: 0.6950\n",
            "Epoch 10/125\n",
            "20/20 [==============================] - 0s 24ms/step - loss: 0.6176 - accuracy: 0.7014\n",
            "Epoch 11/125\n",
            "20/20 [==============================] - 0s 12ms/step - loss: 0.5933 - accuracy: 0.7111\n",
            "Epoch 12/125\n",
            "20/20 [==============================] - 0s 11ms/step - loss: 0.5788 - accuracy: 0.7111\n",
            "Epoch 13/125\n",
            "20/20 [==============================] - 0s 13ms/step - loss: 0.5629 - accuracy: 0.7127\n",
            "Epoch 14/125\n",
            "20/20 [==============================] - 0s 11ms/step - loss: 0.5524 - accuracy: 0.7287\n",
            "Epoch 15/125\n",
            "20/20 [==============================] - 0s 10ms/step - loss: 0.5481 - accuracy: 0.7207\n",
            "Epoch 16/125\n",
            "20/20 [==============================] - 0s 3ms/step - loss: 0.5426 - accuracy: 0.7400\n",
            "Epoch 17/125\n",
            "20/20 [==============================] - 0s 3ms/step - loss: 0.5342 - accuracy: 0.7319\n",
            "Epoch 18/125\n",
            "20/20 [==============================] - 0s 9ms/step - loss: 0.5283 - accuracy: 0.7464\n",
            "Epoch 19/125\n",
            "20/20 [==============================] - 0s 4ms/step - loss: 0.5263 - accuracy: 0.7544\n",
            "Epoch 20/125\n",
            "20/20 [==============================] - 0s 13ms/step - loss: 0.5253 - accuracy: 0.7640\n",
            "Epoch 21/125\n",
            "20/20 [==============================] - 0s 9ms/step - loss: 0.5207 - accuracy: 0.7416\n",
            "Epoch 22/125\n",
            "20/20 [==============================] - 0s 4ms/step - loss: 0.5103 - accuracy: 0.7608\n",
            "Epoch 23/125\n",
            "20/20 [==============================] - 0s 5ms/step - loss: 0.5054 - accuracy: 0.7576\n",
            "Epoch 24/125\n",
            "20/20 [==============================] - 0s 4ms/step - loss: 0.4987 - accuracy: 0.7705\n",
            "Epoch 25/125\n",
            "20/20 [==============================] - 0s 7ms/step - loss: 0.4953 - accuracy: 0.7689\n",
            "Epoch 26/125\n",
            "20/20 [==============================] - 0s 5ms/step - loss: 0.4928 - accuracy: 0.7705\n",
            "Epoch 27/125\n",
            "20/20 [==============================] - 0s 8ms/step - loss: 0.4920 - accuracy: 0.7881\n",
            "Epoch 28/125\n",
            "20/20 [==============================] - 0s 8ms/step - loss: 0.4888 - accuracy: 0.7817\n",
            "Epoch 29/125\n",
            "20/20 [==============================] - 0s 2ms/step - loss: 0.4937 - accuracy: 0.7640\n",
            "Epoch 30/125\n",
            "20/20 [==============================] - 0s 3ms/step - loss: 0.4820 - accuracy: 0.7785\n",
            "Epoch 31/125\n",
            "20/20 [==============================] - 0s 10ms/step - loss: 0.4846 - accuracy: 0.7753\n",
            "Epoch 32/125\n",
            "20/20 [==============================] - 0s 2ms/step - loss: 0.4764 - accuracy: 0.7737\n",
            "Epoch 33/125\n",
            "20/20 [==============================] - 0s 10ms/step - loss: 0.4751 - accuracy: 0.7705\n",
            "Epoch 34/125\n",
            "20/20 [==============================] - 0s 12ms/step - loss: 0.4764 - accuracy: 0.7785\n",
            "Epoch 35/125\n",
            "20/20 [==============================] - 0s 6ms/step - loss: 0.4746 - accuracy: 0.7785\n",
            "Epoch 36/125\n",
            "20/20 [==============================] - 0s 4ms/step - loss: 0.4734 - accuracy: 0.7849\n",
            "Epoch 37/125\n",
            "20/20 [==============================] - 0s 10ms/step - loss: 0.4672 - accuracy: 0.7769\n",
            "Epoch 38/125\n",
            "20/20 [==============================] - 0s 7ms/step - loss: 0.4720 - accuracy: 0.7785\n",
            "Epoch 39/125\n",
            "20/20 [==============================] - 0s 6ms/step - loss: 0.4656 - accuracy: 0.7769\n",
            "Epoch 40/125\n",
            "20/20 [==============================] - 0s 6ms/step - loss: 0.4633 - accuracy: 0.7833\n",
            "Epoch 41/125\n",
            "20/20 [==============================] - 0s 3ms/step - loss: 0.4631 - accuracy: 0.7801\n",
            "Epoch 42/125\n",
            "20/20 [==============================] - 0s 4ms/step - loss: 0.4604 - accuracy: 0.7833\n",
            "Epoch 43/125\n",
            "20/20 [==============================] - 0s 5ms/step - loss: 0.4572 - accuracy: 0.7849\n",
            "Epoch 44/125\n",
            "20/20 [==============================] - 0s 3ms/step - loss: 0.4569 - accuracy: 0.7897\n",
            "Epoch 45/125\n",
            "20/20 [==============================] - 0s 8ms/step - loss: 0.4581 - accuracy: 0.7929\n",
            "Epoch 46/125\n",
            "20/20 [==============================] - 0s 10ms/step - loss: 0.4737 - accuracy: 0.7817\n",
            "Epoch 47/125\n",
            "20/20 [==============================] - 0s 7ms/step - loss: 0.4518 - accuracy: 0.7961\n",
            "Epoch 48/125\n",
            "20/20 [==============================] - 0s 3ms/step - loss: 0.4543 - accuracy: 0.8026\n",
            "Epoch 49/125\n",
            "20/20 [==============================] - 0s 8ms/step - loss: 0.4560 - accuracy: 0.7897\n",
            "Epoch 50/125\n",
            "20/20 [==============================] - 0s 3ms/step - loss: 0.4563 - accuracy: 0.7833\n",
            "Epoch 51/125\n",
            "20/20 [==============================] - 0s 4ms/step - loss: 0.4508 - accuracy: 0.7929\n",
            "Epoch 52/125\n",
            "20/20 [==============================] - 0s 4ms/step - loss: 0.4498 - accuracy: 0.7994\n",
            "Epoch 53/125\n",
            "20/20 [==============================] - 0s 5ms/step - loss: 0.4484 - accuracy: 0.7833\n",
            "Epoch 54/125\n",
            "20/20 [==============================] - 0s 6ms/step - loss: 0.4497 - accuracy: 0.7913\n",
            "Epoch 55/125\n",
            "20/20 [==============================] - 0s 5ms/step - loss: 0.4519 - accuracy: 0.7913\n",
            "Epoch 56/125\n",
            "20/20 [==============================] - 0s 11ms/step - loss: 0.4451 - accuracy: 0.7929\n",
            "Epoch 57/125\n",
            "20/20 [==============================] - 0s 11ms/step - loss: 0.4461 - accuracy: 0.7945\n",
            "Epoch 58/125\n",
            "20/20 [==============================] - 0s 5ms/step - loss: 0.4458 - accuracy: 0.7865\n",
            "Epoch 59/125\n",
            "20/20 [==============================] - 0s 8ms/step - loss: 0.4453 - accuracy: 0.8042\n",
            "Epoch 60/125\n",
            "20/20 [==============================] - 0s 9ms/step - loss: 0.4493 - accuracy: 0.8010\n",
            "Epoch 61/125\n",
            "20/20 [==============================] - 0s 6ms/step - loss: 0.4505 - accuracy: 0.7945\n",
            "Epoch 62/125\n",
            "20/20 [==============================] - 0s 9ms/step - loss: 0.4407 - accuracy: 0.7929\n",
            "Epoch 63/125\n",
            "20/20 [==============================] - 0s 5ms/step - loss: 0.4402 - accuracy: 0.7913\n",
            "Epoch 64/125\n",
            "20/20 [==============================] - 0s 5ms/step - loss: 0.4393 - accuracy: 0.8010\n",
            "Epoch 65/125\n",
            "20/20 [==============================] - 0s 2ms/step - loss: 0.4425 - accuracy: 0.7881\n",
            "Epoch 66/125\n",
            "20/20 [==============================] - 0s 2ms/step - loss: 0.4395 - accuracy: 0.7961\n",
            "Epoch 67/125\n",
            "20/20 [==============================] - 0s 2ms/step - loss: 0.4375 - accuracy: 0.7961\n",
            "Epoch 68/125\n",
            "20/20 [==============================] - 0s 1ms/step - loss: 0.4474 - accuracy: 0.7978\n",
            "Epoch 69/125\n",
            "20/20 [==============================] - 0s 2ms/step - loss: 0.4552 - accuracy: 0.7913\n",
            "Epoch 70/125\n",
            "20/20 [==============================] - 0s 1ms/step - loss: 0.4493 - accuracy: 0.7994\n",
            "Epoch 71/125\n",
            "20/20 [==============================] - 0s 2ms/step - loss: 0.4369 - accuracy: 0.7945\n",
            "Epoch 72/125\n",
            "20/20 [==============================] - 0s 2ms/step - loss: 0.4382 - accuracy: 0.7994\n",
            "Epoch 73/125\n",
            "20/20 [==============================] - 0s 3ms/step - loss: 0.4366 - accuracy: 0.7897\n",
            "Epoch 74/125\n",
            "20/20 [==============================] - 0s 2ms/step - loss: 0.4348 - accuracy: 0.8010\n",
            "Epoch 75/125\n",
            "20/20 [==============================] - 0s 2ms/step - loss: 0.4360 - accuracy: 0.7929\n",
            "Epoch 76/125\n",
            "20/20 [==============================] - 0s 2ms/step - loss: 0.4368 - accuracy: 0.7929\n",
            "Epoch 77/125\n",
            "20/20 [==============================] - 0s 2ms/step - loss: 0.4367 - accuracy: 0.7978\n",
            "Epoch 78/125\n",
            "20/20 [==============================] - 0s 3ms/step - loss: 0.4347 - accuracy: 0.7961\n",
            "Epoch 79/125\n",
            "20/20 [==============================] - 0s 2ms/step - loss: 0.4320 - accuracy: 0.7961\n",
            "Epoch 80/125\n",
            "20/20 [==============================] - 0s 4ms/step - loss: 0.4567 - accuracy: 0.8074\n",
            "Epoch 81/125\n",
            "20/20 [==============================] - 0s 3ms/step - loss: 0.4311 - accuracy: 0.7913\n",
            "Epoch 82/125\n",
            "20/20 [==============================] - 0s 2ms/step - loss: 0.4360 - accuracy: 0.7994\n",
            "Epoch 83/125\n",
            "20/20 [==============================] - 0s 2ms/step - loss: 0.4328 - accuracy: 0.7978\n",
            "Epoch 84/125\n",
            "20/20 [==============================] - 0s 2ms/step - loss: 0.4331 - accuracy: 0.8010\n",
            "Epoch 85/125\n",
            "20/20 [==============================] - 0s 2ms/step - loss: 0.4317 - accuracy: 0.7994\n",
            "Epoch 86/125\n",
            "20/20 [==============================] - 0s 2ms/step - loss: 0.4353 - accuracy: 0.7978\n",
            "Epoch 87/125\n",
            "20/20 [==============================] - 0s 4ms/step - loss: 0.4368 - accuracy: 0.8090\n",
            "Epoch 88/125\n",
            "20/20 [==============================] - 0s 1ms/step - loss: 0.4357 - accuracy: 0.8026\n",
            "Epoch 89/125\n",
            "20/20 [==============================] - 0s 2ms/step - loss: 0.4291 - accuracy: 0.8042\n",
            "Epoch 90/125\n",
            "20/20 [==============================] - 0s 2ms/step - loss: 0.4355 - accuracy: 0.7913\n",
            "Epoch 91/125\n",
            "20/20 [==============================] - 0s 3ms/step - loss: 0.4318 - accuracy: 0.7929\n",
            "Epoch 92/125\n",
            "20/20 [==============================] - 0s 2ms/step - loss: 0.4344 - accuracy: 0.8074\n",
            "Epoch 93/125\n",
            "20/20 [==============================] - 0s 3ms/step - loss: 0.4316 - accuracy: 0.7994\n",
            "Epoch 94/125\n",
            "20/20 [==============================] - 0s 2ms/step - loss: 0.4324 - accuracy: 0.8026\n",
            "Epoch 95/125\n",
            "20/20 [==============================] - 0s 2ms/step - loss: 0.4337 - accuracy: 0.7961\n",
            "Epoch 96/125\n",
            "20/20 [==============================] - 0s 2ms/step - loss: 0.4373 - accuracy: 0.7913\n",
            "Epoch 97/125\n",
            "20/20 [==============================] - 0s 2ms/step - loss: 0.4384 - accuracy: 0.8042\n",
            "Epoch 98/125\n",
            "20/20 [==============================] - 0s 2ms/step - loss: 0.4315 - accuracy: 0.8010\n",
            "Epoch 99/125\n",
            "20/20 [==============================] - 0s 2ms/step - loss: 0.4330 - accuracy: 0.7929\n",
            "Epoch 100/125\n",
            "20/20 [==============================] - 0s 2ms/step - loss: 0.4298 - accuracy: 0.8042\n",
            "Epoch 101/125\n",
            "20/20 [==============================] - 0s 2ms/step - loss: 0.4314 - accuracy: 0.7929\n",
            "Epoch 102/125\n",
            "20/20 [==============================] - 0s 1ms/step - loss: 0.4332 - accuracy: 0.8058\n",
            "Epoch 103/125\n",
            "20/20 [==============================] - 0s 2ms/step - loss: 0.4405 - accuracy: 0.7817\n",
            "Epoch 104/125\n",
            "20/20 [==============================] - 0s 2ms/step - loss: 0.4384 - accuracy: 0.7913\n",
            "Epoch 105/125\n",
            "20/20 [==============================] - 0s 3ms/step - loss: 0.4331 - accuracy: 0.7961\n",
            "Epoch 106/125\n",
            "20/20 [==============================] - 0s 2ms/step - loss: 0.4298 - accuracy: 0.7961\n",
            "Epoch 107/125\n",
            "20/20 [==============================] - 0s 2ms/step - loss: 0.4340 - accuracy: 0.7994\n",
            "Epoch 108/125\n",
            "20/20 [==============================] - 0s 4ms/step - loss: 0.4274 - accuracy: 0.7978\n",
            "Epoch 109/125\n",
            "20/20 [==============================] - 0s 2ms/step - loss: 0.4278 - accuracy: 0.7961\n",
            "Epoch 110/125\n",
            "20/20 [==============================] - 0s 2ms/step - loss: 0.4266 - accuracy: 0.7929\n",
            "Epoch 111/125\n",
            "20/20 [==============================] - 0s 2ms/step - loss: 0.4365 - accuracy: 0.7978\n",
            "Epoch 112/125\n",
            "20/20 [==============================] - 0s 2ms/step - loss: 0.4345 - accuracy: 0.7978\n",
            "Epoch 113/125\n",
            "20/20 [==============================] - 0s 2ms/step - loss: 0.4386 - accuracy: 0.7961\n",
            "Epoch 114/125\n",
            "20/20 [==============================] - 0s 2ms/step - loss: 0.4307 - accuracy: 0.8010\n",
            "Epoch 115/125\n",
            "20/20 [==============================] - 0s 2ms/step - loss: 0.4256 - accuracy: 0.7994\n",
            "Epoch 116/125\n",
            "20/20 [==============================] - 0s 2ms/step - loss: 0.4314 - accuracy: 0.7929\n",
            "Epoch 117/125\n",
            "20/20 [==============================] - 0s 2ms/step - loss: 0.4331 - accuracy: 0.7994\n",
            "Epoch 118/125\n",
            "20/20 [==============================] - 0s 2ms/step - loss: 0.4254 - accuracy: 0.8026\n",
            "Epoch 119/125\n",
            "20/20 [==============================] - 0s 2ms/step - loss: 0.4293 - accuracy: 0.7994\n",
            "Epoch 120/125\n",
            "20/20 [==============================] - 0s 2ms/step - loss: 0.4320 - accuracy: 0.8010\n",
            "Epoch 121/125\n",
            "20/20 [==============================] - 0s 2ms/step - loss: 0.4272 - accuracy: 0.7881\n",
            "Epoch 122/125\n",
            "20/20 [==============================] - 0s 2ms/step - loss: 0.4297 - accuracy: 0.7929\n",
            "Epoch 123/125\n",
            "20/20 [==============================] - 0s 2ms/step - loss: 0.4241 - accuracy: 0.7978\n",
            "Epoch 124/125\n",
            "20/20 [==============================] - 0s 2ms/step - loss: 0.4270 - accuracy: 0.7945\n",
            "Epoch 125/125\n",
            "20/20 [==============================] - 0s 2ms/step - loss: 0.4247 - accuracy: 0.7913\n"
          ]
        },
        {
          "output_type": "execute_result",
          "data": {
            "text/plain": [
              "<keras.callbacks.History at 0x7fcd6856f910>"
            ]
          },
          "metadata": {},
          "execution_count": 6
        }
      ]
    },
    {
      "cell_type": "markdown",
      "metadata": {
        "id": "TtKI5u6XucCt"
      },
      "source": [
        "Testing Model"
      ]
    },
    {
      "cell_type": "code",
      "metadata": {
        "colab": {
          "base_uri": "https://localhost:8080/"
        },
        "id": "zULX2eSYueDf",
        "outputId": "95edd62a-e134-4f36-9cf3-d9fbb198582d"
      },
      "source": [
        "model.evaluate(imputed_x_test, y_test, verbose=2)"
      ],
      "execution_count": 7,
      "outputs": [
        {
          "output_type": "stream",
          "name": "stdout",
          "text": [
            "9/9 - 0s - loss: 0.4612 - accuracy: 0.7910 - 222ms/epoch - 25ms/step\n"
          ]
        },
        {
          "output_type": "execute_result",
          "data": {
            "text/plain": [
              "[0.4611590504646301, 0.7910447716712952]"
            ]
          },
          "metadata": {},
          "execution_count": 7
        }
      ]
    },
    {
      "cell_type": "markdown",
      "metadata": {
        "id": "s_OkNpzEwZmt"
      },
      "source": [
        "Tracking Results:\n",
        "\n",
        "PassengerId, Name, Ticket, Cabin always dropped\n",
        "\n",
        "Sex, Age, Pclass: Always included\n",
        "\n",
        "Variables to be shuffled around: SibSp, Parch, Fare, Embarked, Pclass, \n",
        "1.   With Pclass, SibSp, Parch: **0.60 to 0.66**\n",
        "2.   With Pclass, SibSp, Parch, Fare: **0.59 to 0.63**\n",
        "3.   With all : **0.60 to 0.65**\n",
        "4.   With Pclass, Fare, Embarked: **0.57 to 0.65**\n",
        "5.   All with 200 epochs: **0.62 to 0.66**\n",
        "6. After Imputation: **0.73 - 0.83**\n",
        "\n"
      ]
    }
  ]
}