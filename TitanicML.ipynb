{
  "cells": [
    {
      "cell_type": "markdown",
      "metadata": {
        "colab_type": "text",
        "id": "view-in-github"
      },
      "source": [
        "<a href=\"https://colab.research.google.com/github/azzamasim/titanicml/blob/main/Utterubbish_P1M8.ipynb\" target=\"_parent\"><img src=\"https://colab.research.google.com/assets/colab-badge.svg\" alt=\"Open In Colab\"/></a>"
      ]
    },
    {
      "cell_type": "code",
      "execution_count": 1,
      "metadata": {
        "id": "dlhfxOLUMXjM"
      },
      "outputs": [],
      "source": [
        "from sklearn.model_selection import train_test_split\n",
        "import tensorflow as tf\n",
        "import pandas as pd\n",
        "import numpy as np"
      ]
    },
    {
      "cell_type": "markdown",
      "metadata": {
        "id": "FfmzcSzIMhil"
      },
      "source": [
        "Importing data and pre-processing"
      ]
    },
    {
      "cell_type": "code",
      "execution_count": 2,
      "metadata": {
        "id": "5sUB8TZ5M4a8"
      },
      "outputs": [],
      "source": [
        "df = pd.read_csv(\"https://cdn.techroulette.xyz/projects/shipwreck/data/m3_data.csv\")\n",
        "\n",
        "df = df.drop(['PassengerId', 'Name', 'Ticket', 'Cabin'], axis=1)\n",
        "df = df.replace({'male': 0, 'female': 1})\n",
        "df = df.replace({'S': 0, 'Q': 1, 'C': 2})"
      ]
    },
    {
      "cell_type": "markdown",
      "metadata": {
        "id": "RUHrHe6Otier"
      },
      "source": [
        "Creating training and testing data sets"
      ]
    },
    {
      "cell_type": "code",
      "execution_count": 3,
      "metadata": {
        "id": "mvcvRnARtm4t"
      },
      "outputs": [],
      "source": [
        "y = df.pop('Survived')\n",
        "x = df\n",
        "x_train, x_test, y_train, y_test = train_test_split(x, y, test_size=0.3)"
      ]
    },
    {
      "cell_type": "markdown",
      "metadata": {
        "id": "Ezp2L5Ynt9YV"
      },
      "source": [
        "Building Model"
      ]
    },
    {
      "cell_type": "code",
      "execution_count": 4,
      "metadata": {
        "id": "OuJz7jm8t_U6"
      },
      "outputs": [],
      "source": [
        "model = tf.keras.models.Sequential()\n",
        "model.add(tf.keras.layers.Dense(10, input_shape=(7,), activation='relu'))\n",
        "model.add(tf.keras.layers.Dense(1, activation='sigmoid'))"
      ]
    },
    {
      "cell_type": "markdown",
      "metadata": {
        "id": "MRK---1mE0yv"
      },
      "source": [
        "Implementing ways to improve accuracy\n"
      ]
    },
    {
      "cell_type": "code",
      "execution_count": 5,
      "metadata": {
        "id": "uWlLFIVVE6FM"
      },
      "outputs": [],
      "source": [
        "#Step 1: imputing values (mostly for age)\n",
        "from sklearn.impute import SimpleImputer\n",
        "\n",
        "#Imputation\n",
        "my_imputer = SimpleImputer()\n",
        "imputed_x_train = pd.DataFrame(my_imputer.fit_transform(x_train))\n",
        "imputed_x_test = pd.DataFrame(my_imputer.transform(x_test))\n",
        "imputed_x_train.columns = x_train.columns\n",
        "imputed_x_test.columns = x_test.columns"
      ]
    },
    {
      "cell_type": "markdown",
      "metadata": {
        "id": "iMf3ow8zuEZG"
      },
      "source": [
        "Training Model"
      ]
    },
    {
      "cell_type": "code",
      "execution_count": null,
      "metadata": {
        "colab": {
          "base_uri": "https://localhost:8080/"
        },
        "id": "Yg7qrUKnuLlC",
        "outputId": "03f5f651-0a8a-4c95-de46-be0d71f81a53"
      },
      "outputs": [],
      "source": [
        "model.compile(\n",
        "    optimizer=\"adam\",\n",
        "    loss=\"binary_crossentropy\", \n",
        "    metrics=[\"accuracy\"]\n",
        "  )\n",
        "\n",
        "#model.compile(optimizer =\"rmsprop\", loss =\"categorical_crossentropy\", metrics =['accuracy'])\n",
        "\n",
        "model.fit(imputed_x_train, y_train, epochs=125)"
      ]
    },
    {
      "cell_type": "markdown",
      "metadata": {
        "id": "TtKI5u6XucCt"
      },
      "source": [
        "Testing Model"
      ]
    },
    {
      "cell_type": "code",
      "execution_count": 7,
      "metadata": {
        "colab": {
          "base_uri": "https://localhost:8080/"
        },
        "id": "zULX2eSYueDf",
        "outputId": "95edd62a-e134-4f36-9cf3-d9fbb198582d"
      },
      "outputs": [
        {
          "name": "stdout",
          "output_type": "stream",
          "text": [
            "9/9 - 0s - loss: 0.4612 - accuracy: 0.7910 - 222ms/epoch - 25ms/step\n"
          ]
        },
        {
          "data": {
            "text/plain": [
              "[0.4611590504646301, 0.7910447716712952]"
            ]
          },
          "execution_count": 7,
          "metadata": {},
          "output_type": "execute_result"
        }
      ],
      "source": [
        "model.evaluate(imputed_x_test, y_test, verbose=2)"
      ]
    },
    {
      "cell_type": "markdown",
      "metadata": {
        "id": "s_OkNpzEwZmt"
      },
      "source": [
        "Tracking Results:\n",
        "\n",
        "PassengerId, Name, Ticket, Cabin always dropped\n",
        "\n",
        "Sex, Age, Pclass: Always included\n",
        "\n",
        "Variables to be shuffled around: SibSp, Parch, Fare, Embarked, Pclass, \n",
        "1.   With Pclass, SibSp, Parch: **0.60 to 0.66**\n",
        "2.   With Pclass, SibSp, Parch, Fare: **0.59 to 0.63**\n",
        "3.   With all : **0.60 to 0.65**\n",
        "4.   With Pclass, Fare, Embarked: **0.57 to 0.65**\n",
        "5.   All with 200 epochs: **0.62 to 0.66**\n",
        "6. After Imputation: **0.73 - 0.83**\n",
        "\n"
      ]
    }
  ],
  "metadata": {
    "colab": {
      "authorship_tag": "ABX9TyMSUM/eQFZ6t9j4tjOx0cW6",
      "include_colab_link": true,
      "provenance": []
    },
    "kernelspec": {
      "display_name": "Python 3",
      "name": "python3"
    },
    "language_info": {
      "name": "python"
    }
  },
  "nbformat": 4,
  "nbformat_minor": 0
}
